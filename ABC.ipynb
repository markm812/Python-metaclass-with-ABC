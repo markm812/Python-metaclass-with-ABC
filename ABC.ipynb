{
 "cells": [
  {
   "cell_type": "code",
   "execution_count": 1,
   "id": "b2776765",
   "metadata": {},
   "outputs": [],
   "source": [
    "class A:\n",
    "    def __init__(self,val):\n",
    "        self.value = val\n",
    "        \n",
    "    def increment(self):\n",
    "        self.value += 1\n",
    "        return self\n",
    "    \n",
    "    def result(self):\n",
    "        print(self.value)\n",
    "        return self"
   ]
  },
  {
   "cell_type": "code",
   "execution_count": 2,
   "id": "1e340821",
   "metadata": {},
   "outputs": [],
   "source": [
    "obj = A(5)"
   ]
  },
  {
   "cell_type": "code",
   "execution_count": 3,
   "id": "9a73d1e8",
   "metadata": {},
   "outputs": [
    {
     "name": "stdout",
     "output_type": "stream",
     "text": [
      "6\n"
     ]
    },
    {
     "data": {
      "text/plain": [
       "<__main__.A at 0x17e12009f60>"
      ]
     },
     "execution_count": 3,
     "metadata": {},
     "output_type": "execute_result"
    }
   ],
   "source": [
    "obj.increment().result()"
   ]
  },
  {
   "cell_type": "code",
   "execution_count": 4,
   "id": "3fa2312c",
   "metadata": {},
   "outputs": [],
   "source": [
    "from abc import ABC, abstractmethod\n",
    "\n",
    "class Number(ABC):\n",
    "    def __init__(self,val):\n",
    "        self.value = val\n",
    "    \n",
    "    @abstractmethod\n",
    "    def add(self,val):\n",
    "        pass\n",
    "    \n",
    "    @abstractmethod\n",
    "    def minus(self,val):\n",
    "        pass\n",
    "    \n",
    "    def result(self):\n",
    "        print(self.value)\n",
    "        return self"
   ]
  },
  {
   "cell_type": "code",
   "execution_count": 5,
   "id": "cda3a422",
   "metadata": {},
   "outputs": [],
   "source": [
    "class Integer(Number):\n",
    "    def add(self,val):\n",
    "        self.value += int(val)\n",
    "        return self\n",
    "    \n",
    "    def minus(self,val):\n",
    "        self.value-= int(val)\n",
    "        return self"
   ]
  },
  {
   "cell_type": "code",
   "execution_count": 6,
   "id": "3db9333a",
   "metadata": {},
   "outputs": [],
   "source": [
    "class Float(Number):\n",
    "    def add(self,val):\n",
    "        self.value += val\n",
    "        return self\n",
    "    \n",
    "    def minus(self,val):\n",
    "        self.value -= val\n",
    "        return self"
   ]
  },
  {
   "cell_type": "code",
   "execution_count": 7,
   "id": "09d12b1c",
   "metadata": {},
   "outputs": [],
   "source": [
    "i = Integer(20)"
   ]
  },
  {
   "cell_type": "code",
   "execution_count": 8,
   "id": "00e37bf7",
   "metadata": {},
   "outputs": [
    {
     "name": "stdout",
     "output_type": "stream",
     "text": [
      "17\n"
     ]
    },
    {
     "data": {
      "text/plain": [
       "<__main__.Integer at 0x17e120d1940>"
      ]
     },
     "execution_count": 8,
     "metadata": {},
     "output_type": "execute_result"
    }
   ],
   "source": [
    "i.add(1.1).minus(4.3).result()"
   ]
  },
  {
   "cell_type": "code",
   "execution_count": 9,
   "id": "970e9070",
   "metadata": {},
   "outputs": [],
   "source": [
    "f = Float(15.5)"
   ]
  },
  {
   "cell_type": "code",
   "execution_count": 10,
   "id": "8bfb16d4",
   "metadata": {},
   "outputs": [
    {
     "name": "stdout",
     "output_type": "stream",
     "text": [
      "14.1\n"
     ]
    },
    {
     "data": {
      "text/plain": [
       "<__main__.Float at 0x17e120d1710>"
      ]
     },
     "execution_count": 10,
     "metadata": {},
     "output_type": "execute_result"
    }
   ],
   "source": [
    "f.add(1.5).minus(2.9).result()"
   ]
  },
  {
   "cell_type": "code",
   "execution_count": null,
   "id": "d8fb3ee5",
   "metadata": {},
   "outputs": [],
   "source": []
  },
  {
   "cell_type": "code",
   "execution_count": 11,
   "id": "5cec4481",
   "metadata": {},
   "outputs": [],
   "source": [
    "def abstractfungg(func):\n",
    "    func.__isabstract__ = True\n",
    "    return func"
   ]
  },
  {
   "cell_type": "code",
   "execution_count": 36,
   "id": "aae33afe",
   "metadata": {},
   "outputs": [],
   "source": [
    "class Interface(type):\n",
    "    def __init__(self, name, bases, namespace):\n",
    "        print(\"init\")\n",
    "        for base in bases:\n",
    "            must_implement = getattr(base, 'abstract_methods', [])\n",
    "            class_methods = getattr(self, 'all_methods', [])\n",
    "            for method in must_implement:\n",
    "                if method not in class_methods:\n",
    "                    err_str = \"\"\"Can't create abstract class {name}!\n",
    "                    {name} must implement abstract method * {method} * of class {base_class}!\"\"\".format(name=name,\n",
    "                        method=method,\n",
    "                        base_class=base.__name__)\n",
    "                    raise TypeError(err_str)\n",
    "        \n",
    "    def __new__(metaclass, name, bases, namespace):\n",
    "        print(\"New\")\n",
    "        namespace['abstract_methods'] = Interface._get_abstract_methods(namespace)\n",
    "        namespace['all_methods'] = Interface._get_all_methods(namespace)\n",
    "        cls = super().__new__(metaclass, name, bases, namespace)\n",
    "        return cls\n",
    "\n",
    "    def _get_abstract_methods(namespace):\n",
    "        return [name for name, val in namespace.items() if callable(val) and getattr(val, '__isabstract__', False)]\n",
    "\n",
    "    def _get_all_methods(namespace):\n",
    "        return [name for name, val in namespace.items() if callable(val)]"
   ]
  },
  {
   "cell_type": "code",
   "execution_count": 37,
   "id": "8ed2f30c",
   "metadata": {},
   "outputs": [
    {
     "name": "stdout",
     "output_type": "stream",
     "text": [
      "New\n",
      "init\n"
     ]
    }
   ],
   "source": [
    "class HighInterface(metaclass=Interface):\n",
    "    def __init(self,val):\n",
    "        self.value = val\n",
    "        \n",
    "    @abstractfungg\n",
    "    def foo(self):\n",
    "        pass\n",
    "\n",
    "    @abstractfungg\n",
    "    def bar(self):\n",
    "        pass"
   ]
  },
  {
   "cell_type": "code",
   "execution_count": 38,
   "id": "a9fac01d",
   "metadata": {},
   "outputs": [
    {
     "name": "stdout",
     "output_type": "stream",
     "text": [
      "New\n",
      "init\n"
     ]
    },
    {
     "ename": "TypeError",
     "evalue": "Can't create abstract class LowInterface!\n                    LowInterface must implement abstract method * bar * of class HighInterface!",
     "output_type": "error",
     "traceback": [
      "\u001b[1;31m---------------------------------------------------------------------------\u001b[0m",
      "\u001b[1;31mTypeError\u001b[0m                                 Traceback (most recent call last)",
      "\u001b[1;32m~\\AppData\\Local\\Temp\\ipykernel_25244\\732117052.py\u001b[0m in \u001b[0;36m<module>\u001b[1;34m\u001b[0m\n\u001b[1;32m----> 1\u001b[1;33m \u001b[1;32mclass\u001b[0m \u001b[0mLowInterface\u001b[0m\u001b[1;33m(\u001b[0m\u001b[0mHighInterface\u001b[0m\u001b[1;33m)\u001b[0m\u001b[1;33m:\u001b[0m\u001b[1;33m\u001b[0m\u001b[0m\n\u001b[0m\u001b[0;32m      2\u001b[0m     \u001b[1;32mdef\u001b[0m \u001b[0mfoo\u001b[0m\u001b[1;33m(\u001b[0m\u001b[0mself\u001b[0m\u001b[1;33m)\u001b[0m\u001b[1;33m:\u001b[0m\u001b[1;33m\u001b[0m\u001b[0m\n\u001b[0;32m      3\u001b[0m         \u001b[1;32mpass\u001b[0m\u001b[1;33m\u001b[0m\u001b[0m\n",
      "\u001b[1;32m~\\AppData\\Local\\Temp\\ipykernel_25244\\569337543.py\u001b[0m in \u001b[0;36m__init__\u001b[1;34m(self, name, bases, namespace)\u001b[0m\n\u001b[0;32m     11\u001b[0m                         \u001b[0mmethod\u001b[0m\u001b[1;33m=\u001b[0m\u001b[0mmethod\u001b[0m\u001b[1;33m,\u001b[0m\u001b[1;33m\u001b[0m\u001b[0m\n\u001b[0;32m     12\u001b[0m                         base_class=base.__name__)\n\u001b[1;32m---> 13\u001b[1;33m                     \u001b[1;32mraise\u001b[0m \u001b[0mTypeError\u001b[0m\u001b[1;33m(\u001b[0m\u001b[0merr_str\u001b[0m\u001b[1;33m)\u001b[0m\u001b[1;33m\u001b[0m\u001b[0m\n\u001b[0m\u001b[0;32m     14\u001b[0m \u001b[1;33m\u001b[0m\u001b[0m\n\u001b[0;32m     15\u001b[0m     \u001b[1;32mdef\u001b[0m \u001b[0m__new__\u001b[0m\u001b[1;33m(\u001b[0m\u001b[0mmetaclass\u001b[0m\u001b[1;33m,\u001b[0m \u001b[0mname\u001b[0m\u001b[1;33m,\u001b[0m \u001b[0mbases\u001b[0m\u001b[1;33m,\u001b[0m \u001b[0mnamespace\u001b[0m\u001b[1;33m)\u001b[0m\u001b[1;33m:\u001b[0m\u001b[1;33m\u001b[0m\u001b[0m\n",
      "\u001b[1;31mTypeError\u001b[0m: Can't create abstract class LowInterface!\n                    LowInterface must implement abstract method * bar * of class HighInterface!"
     ]
    }
   ],
   "source": [
    "class LowInterface(HighInterface):\n",
    "    def foo(self):\n",
    "        pass"
   ]
  },
  {
   "cell_type": "code",
   "execution_count": null,
   "id": "ad6bd39a",
   "metadata": {},
   "outputs": [],
   "source": []
  },
  {
   "cell_type": "code",
   "execution_count": null,
   "id": "66076b70",
   "metadata": {},
   "outputs": [],
   "source": []
  }
 ],
 "metadata": {
  "kernelspec": {
   "display_name": "Python 3 (ipykernel)",
   "language": "python",
   "name": "python3"
  },
  "language_info": {
   "codemirror_mode": {
    "name": "ipython",
    "version": 3
   },
   "file_extension": ".py",
   "mimetype": "text/x-python",
   "name": "python",
   "nbconvert_exporter": "python",
   "pygments_lexer": "ipython3",
   "version": "3.7.0"
  }
 },
 "nbformat": 4,
 "nbformat_minor": 5
}
